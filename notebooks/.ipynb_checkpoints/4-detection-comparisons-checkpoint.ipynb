{
 "cells": [
  {
   "cell_type": "markdown",
   "metadata": {},
   "source": [
    "<div style=\"background: navy; color: white; padding: 20px\">\n",
    "\n",
    "\n",
    "# $\\S 4.6$: Comparing anomaly detection methods on path space"
   ]
  },
  {
   "cell_type": "markdown",
   "metadata": {},
   "source": [
    "In this notebook, we step through the examples shown in Section 4.6 of the paper \"Non-parametric online market regime detection and regime clustering for multidimensional and path-dependent data structures\"."
   ]
  },
  {
   "cell_type": "markdown",
   "metadata": {},
   "source": [
    "<div style=\"background: navy; color: white; padding: 20px\">\n",
    "\n",
    "### Imports"
   ]
  },
  {
   "cell_type": "code",
   "execution_count": null,
   "metadata": {},
   "outputs": [],
   "source": [
    "import torch\n",
    "import numpy as np\n",
    "\n",
    "from src.testing import TestConfig\n",
    "from src.testing.discriminators import GeneralMMDDetector, AutoEvaluator, TruncatedMMDDetector, TruncatedAutoEvaluator, AnomalyDetector\n",
    "from src.testing.discriminators.config import ProcessorConfig\n",
    "from src.testing.experiment_functions.mmd_test_functions import generate_deterministic_test_path, get_set_paths, alpha_score_function, get_beliefs_from_config\n",
    "from src.testing.experiment_functions.plot_result_functions import plot_path_experiment_result, plot_path_test_threshold\n",
    "from src.testing.clustering.HierarchicalClusterer import HierarchicalClusterer\n",
    "from src.testing.clustering.config import ClusterConfig\n",
    "from src.testing.output_functions import get_table_statistics\n",
    "from src.generators.Model import Model\n",
    "from src.generators.config import ModelConfig\n",
    "from src.utils.auxiliary_classes.PathTransformer import PathTransformer, PathTransformerConfig\n",
    "from src.utils.auxiliary_classes.RegimePartitioner import RegimePartitioner, RegimePartitionerConfig\n",
    "from src.utils.Config import Config\n",
    "from src.utils.helper_functions.test_helper_functions import get_memberships, get_alphas, get_sub_paths, get_grouped_paths\n",
    "from src.utils.helper_functions.plot_helper_functions import plot_regime_change_path, plot_scores"
   ]
  },
  {
   "cell_type": "code",
   "execution_count": null,
   "metadata": {},
   "outputs": [],
   "source": [
    "device = \"cuda\" if torch.cuda.is_available() else \"cpu\""
   ]
  },
  {
   "cell_type": "markdown",
   "metadata": {},
   "source": [
    "<div style=\"background: navy; color: white; padding: 20px\">\n",
    "\n",
    "## 1. Configuration"
   ]
  },
  {
   "cell_type": "markdown",
   "metadata": {},
   "source": [
    "See the <code>5-online-regime-detection.ipynb</code> notebook for line-by-line descriptions of configurations."
   ]
  },
  {
   "cell_type": "code",
   "execution_count": null,
   "metadata": {},
   "outputs": [],
   "source": [
    "# Set configs\n",
    "test_config             = TestConfig()\n",
    "model_config            = ModelConfig()\n",
    "path_transformer_config = PathTransformerConfig()\n",
    "processor_config        = ProcessorConfig()\n",
    "regime_config           = RegimePartitionerConfig()\n",
    "\n",
    "dim = 5\n",
    "\n",
    "model_config.override_args({\n",
    "    \"year_mesh\": 7*252,\n",
    "    \"attach_volatility\": False\n",
    "})\n",
    "\n",
    "dt = 1/model_config.year_mesh\n",
    "belief_models = [\"gbm\"]\n",
    "model_pair_names = [\"gbm\", \"gbm\"]\n",
    "\n",
    "belief_params = [[[0., 0.2] for _ in range(dim)]]\n",
    "model_pair_params = [[[0., 0.2] for _ in range(dim)], [[0., 0.3] for _ in range(dim)]]\n",
    "\n",
    "test_config.override_args({\n",
    "    \"n_steps\": 8,\n",
    "    \"n_paths\": 16,\n",
    "    \"offset\" : 0,\n",
    "    \"weight_factor\": 1,\n",
    "    \"belief_models\": belief_models,\n",
    "    \"model_pair_names\": model_pair_names,\n",
    "    \"belief_params\": belief_params,\n",
    "    \"model_pair_params\": model_pair_params,\n",
    "    \"path_bank_size\": 100000\n",
    "})\n",
    "\n",
    "path_transformer_config.set_transformations({\n",
    "    \"standardise_path_transform\":    (True , 0, {\"s_type\": \"initial\"}),\n",
    "    \"time_normalisation_transform\":  (True , 0, {}),\n",
    "    \"time_difference_transform\":     (False, 0, {}),\n",
    "    \"difference_transform\":          (False, 0, {}),\n",
    "    \"translation_transform\":         (False, 0, {}),\n",
    "    \"scaling_transform\":             (False, 0, {\"sigmas\": [(1/dt)**1e0 for _ in range(dim)]}),\n",
    "    \"cumulant_transform\":            (False, 2, {}),\n",
    "    \"increment_transform\":           (False, 2, {}),\n",
    "    \"lead_lag_transform\":            (False, 3, {}),\n",
    "    \"invisibility_transform\":        (False, 4, {}),\n",
    "})\n",
    "path_transformer_config.compute_pathwise_signature_transform = False\n",
    "path_transformer_config.signature_order = 8\n",
    "\n",
    "processor_config.override_args({\n",
    "    \"generalmmddetector_kwargs\": Config(**{\n",
    "        \"n_tests\": 512,\n",
    "        \"n_evaluations\": 1,\n",
    "        \"metric_kwargs\": Config(**{\n",
    "            \"kernel_type\": \"rbf\",\n",
    "            \"metric_type\": \"mmd\",\n",
    "            \"sigmas\": [2.5e-3],\n",
    "            \"dyadic_orders\": [2],\n",
    "            \"lambd\": 5\n",
    "        }),\n",
    "        \"evaluator_kwargs\": Config(**{\n",
    "            \"pct_ignore\": 0.1\n",
    "        })\n",
    "    }),\n",
    "    \"truncatedmmddetector_kwargs\": Config(**{\n",
    "        \"n_tests\": 512,\n",
    "        \"n_evaluations\": 1,\n",
    "        \"metric_kwargs\": Config(**{\n",
    "            \"signature_order\": 2,\n",
    "            \"scale_signature\": False,\n",
    "            \"sigma\": None\n",
    "        })\n",
    "    }),\n",
    "    \"anomalydetector_kwargs\": Config(**{\n",
    "        \"signature_depth\": 2,\n",
    "        \"signature_type\": \"signature\",\n",
    "        \"pct_path_bank\": 0.01\n",
    "    }),\n",
    "    \"alpha_value\": 0.95,\n",
    "    \"device\": device,\n",
    "    \"overwrite_prior\": True\n",
    "})\n",
    "\n",
    "regime_config.override_args({\n",
    "    \"n_regime_changes\": 5,\n",
    "    \"f_length_scale\"  : 0.5,\n",
    "    \"type\"            : \"random_on_off_steps\",\n",
    "    \"r_on_args\"       : [\"poisson\", 2],\n",
    "    \"r_off_args\"      : [\"poisson\", 1/30],\n",
    "    \"r_min_distance\"  : 32,\n",
    "    \"r_min_gap\"       : 32\n",
    "})"
   ]
  },
  {
   "cell_type": "markdown",
   "metadata": {},
   "source": [
    "<div style=\"background: navy; color: white; padding: 20px\">\n",
    "\n",
    "## 2. Instantiate beliefs"
   ]
  },
  {
   "cell_type": "code",
   "execution_count": null,
   "metadata": {},
   "outputs": [],
   "source": [
    "beliefs, belief_details, model_pairs = get_beliefs_from_config(test_config, model_config, overwrite=False)\n",
    "path_transformer                     = PathTransformer(path_transformer_config)"
   ]
  },
  {
   "cell_type": "markdown",
   "metadata": {},
   "source": [
    "<div style=\"background: navy; color: white; padding: 20px\">\n",
    "\n",
    "## 3. Generate regime-change path"
   ]
  },
  {
   "cell_type": "code",
   "execution_count": null,
   "metadata": {},
   "outputs": [],
   "source": [
    "# Generate path for testing\n",
    "T = 4\n",
    "S0 = [1. for _ in range(dim)]\n",
    "n_steps = test_config.n_steps\n",
    "n_paths = test_config.n_paths\n",
    "offset = 0\n",
    "\n",
    "regime_partitioner = RegimePartitioner(model_config.year_mesh, regime_config)\n",
    "regime_partitioner.generate_regime_partitions(T=T, n_steps=n_steps)\n",
    "test_path = regime_partitioner.generate_regime_change_path(model_pairs, S0)"
   ]
  },
  {
   "cell_type": "markdown",
   "metadata": {},
   "source": [
    "<div style=\"background: navy; color: white; padding: 20px\">\n",
    "\n",
    "## 4. Instantiate detection objects"
   ]
  },
  {
   "cell_type": "code",
   "execution_count": null,
   "metadata": {},
   "outputs": [],
   "source": [
    "general_detector = GeneralMMDDetector(\n",
    "    beliefs          = beliefs,\n",
    "    path_details     = belief_details,\n",
    "    path_transformer = path_transformer,\n",
    "    processor_config = processor_config,\n",
    "    test_config      = test_config\n",
    ")"
   ]
  },
  {
   "cell_type": "code",
   "execution_count": null,
   "metadata": {},
   "outputs": [],
   "source": [
    "truncated_detector = TruncatedMMDDetector(\n",
    "    beliefs          = beliefs,\n",
    "    path_details     = belief_details,\n",
    "    path_transformer = path_transformer,\n",
    "    processor_config = processor_config,\n",
    "    test_config      = test_config\n",
    ")"
   ]
  },
  {
   "cell_type": "code",
   "execution_count": null,
   "metadata": {},
   "outputs": [],
   "source": [
    "anomaly_detector = AnomalyDetector(\n",
    "    beliefs          = beliefs,\n",
    "    path_details     = belief_details,\n",
    "    path_transformer = path_transformer,\n",
    "    processor_config = processor_config,\n",
    "    test_config      = test_config\n",
    ")"
   ]
  },
  {
   "cell_type": "markdown",
   "metadata": {},
   "source": [
    "<div style=\"background: navy; color: white; padding: 20px\">\n",
    "\n",
    "## 5. Calculate scores over path"
   ]
  },
  {
   "cell_type": "code",
   "execution_count": null,
   "metadata": {},
   "outputs": [],
   "source": [
    "general_scores_array   = general_detector.evaluate_path(test_path, evaluation=\"total\")\n",
    "truncated_scores_array = truncated_detector.evaluate_path(test_path, evaluation=\"total\")\n",
    "anomaly_scores_array   = anomaly_detector.evaluate_path(test_path)"
   ]
  },
  {
   "cell_type": "markdown",
   "metadata": {},
   "source": [
    "<div style=\"background: navy; color: white; padding: 20px\">\n",
    "\n",
    "## 6. Display results"
   ]
  },
  {
   "cell_type": "code",
   "execution_count": null,
   "metadata": {},
   "outputs": [],
   "source": [
    "# Extract sub paths for score functions\n",
    "sub_paths = get_sub_paths(test_path, n_steps, offset)\n",
    "mmd_paths = get_grouped_paths(sub_paths, n_paths)\n",
    "c_alpha   = general_detector.critical_value\n",
    "c_alpha_t = truncated_detector.critical_value\n",
    "\n",
    "# Get alpha scores for test thresholds\n",
    "memberships    = get_memberships(mmd_paths)\n",
    "mmd_alphas     = get_alphas(memberships, general_scores_array, c_alpha)\n",
    "mmd_t_alphas   = get_alphas(memberships, truncated_scores_array, c_alpha_t)\n",
    "anomaly_alphas = 1.0*(anomaly_scores_array[1, :] > anomaly_detector.critical_value)\n",
    "\n",
    "_, regime_changes, _ = regime_partitioner.changes_to_times()\n",
    "path_splits_time = [item for sublist in [[r[0], r[1] + 1/model_config.year_mesh] for r in regime_changes] for item in sublist]\n",
    "path_splits_mesh = [int(p*model_config.year_mesh) for p in path_splits_time]"
   ]
  },
  {
   "cell_type": "code",
   "execution_count": null,
   "metadata": {},
   "outputs": [],
   "source": [
    "# Plot MMD scores\n",
    "index = general_scores_array[0, :]\n",
    "\n",
    "for score in general_scores_array[1:, :]:\n",
    "    this_score_array = np.vstack([index, score])\n",
    "    plot_path_experiment_result(test_path, this_score_array, path_splits_mesh, diff=False)\n",
    "\n",
    "# Plot test threshold performance\n",
    "for alphas in mmd_alphas:\n",
    "    plot_path_test_threshold(sub_paths, alphas, path_splits_time, one_dim=True)"
   ]
  },
  {
   "cell_type": "code",
   "execution_count": null,
   "metadata": {},
   "outputs": [],
   "source": [
    "# Plot MMD scores\n",
    "index = truncated_scores_array[0, :]\n",
    "\n",
    "for score in truncated_scores_array[1:, :]:\n",
    "    this_score_array = np.vstack([index, score])\n",
    "    plot_path_experiment_result(test_path, this_score_array, path_splits_mesh, diff=False)\n",
    "\n",
    "# Plot test threshold performance\n",
    "for alphas in mmd_t_alphas:\n",
    "    plot_path_test_threshold(sub_paths, alphas, path_splits_time, one_dim=True)"
   ]
  },
  {
   "cell_type": "code",
   "execution_count": null,
   "metadata": {},
   "outputs": [],
   "source": [
    "plot_path_experiment_result(test_path, anomaly_scores_array, path_splits_mesh, diff=False)\n",
    "plot_path_test_threshold(sub_paths, anomaly_alphas, path_splits_time, one_dim=True)"
   ]
  },
  {
   "cell_type": "markdown",
   "metadata": {},
   "source": [
    "<div style=\"background: navy; color: white; padding: 20px\">\n",
    "\n",
    "## 7. Report scores"
   ]
  },
  {
   "cell_type": "code",
   "execution_count": null,
   "metadata": {},
   "outputs": [],
   "source": [
    "# Scores\n",
    "general_scores_dict = alpha_score_function(\n",
    "    regime_changes = regime_partitioner.regime_changes,\n",
    "    path_length    = len(test_path),\n",
    "    memberships    = memberships,\n",
    "    test_alphas    = mmd_alphas[0],\n",
    "    test_data      = [n_steps, offset, n_paths]\n",
    ")\n",
    "\n",
    "print(\"General_MMD_Detector scores\")\n",
    "for k, v in general_scores_dict.items():\n",
    "    print(\"{}: {:.4f}%\".format(k, v*100))"
   ]
  },
  {
   "cell_type": "code",
   "execution_count": null,
   "metadata": {},
   "outputs": [],
   "source": [
    "# Scores\n",
    "truncated_scores_dict = alpha_score_function(\n",
    "    regime_changes = regime_partitioner.regime_changes,\n",
    "    path_length    = len(test_path),\n",
    "    memberships    = memberships,\n",
    "    test_alphas    = mmd_t_alphas[0],\n",
    "    test_data      = [n_steps, offset, n_paths]\n",
    ")\n",
    "\n",
    "print(\"Truncated_MMD_Detector scores\")\n",
    "for k, v in truncated_scores_dict.items():\n",
    "    print(\"{}: {:.4f}%\".format(k, v*100))"
   ]
  },
  {
   "cell_type": "code",
   "execution_count": null,
   "metadata": {},
   "outputs": [],
   "source": [
    "anomaly_scores_dict = alpha_score_function(\n",
    "    regime_changes = regime_partitioner.regime_changes,\n",
    "    path_length    = len(test_path),\n",
    "    memberships    = memberships,\n",
    "    test_alphas    = anomaly_alphas,\n",
    "    test_data      = [n_steps, offset, n_paths]\n",
    ")\n",
    "\n",
    "print(\"Anomaly_Detector scores\")\n",
    "for k, v in anomaly_scores_dict.items():\n",
    "    print(\"{}: {:.4f}%\".format(k, v*100))"
   ]
  }
 ],
 "metadata": {
  "kernelspec": {
   "display_name": "Python 3 (ipykernel)",
   "language": "python",
   "name": "python3"
  },
  "language_info": {
   "codemirror_mode": {
    "name": "ipython",
    "version": 3
   },
   "file_extension": ".py",
   "mimetype": "text/x-python",
   "name": "python",
   "nbconvert_exporter": "python",
   "pygments_lexer": "ipython3",
   "version": "3.9.13"
  }
 },
 "nbformat": 4,
 "nbformat_minor": 1
}
