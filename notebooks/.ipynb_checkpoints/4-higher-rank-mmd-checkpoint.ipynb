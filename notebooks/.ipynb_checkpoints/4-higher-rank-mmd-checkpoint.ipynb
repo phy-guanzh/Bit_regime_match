{
 "cells": [
  {
   "cell_type": "markdown",
   "id": "6c008764",
   "metadata": {
    "pycharm": {
     "name": ""
    }
   },
   "source": [
    "<div style=\"background: navy; color: white; padding: 20px\">\n",
    "\n",
    "# $\\S 4.5$: The rank 2 MMD as an improvement over the rank 1 MMD\n",
    "\n",
    "## Z Issa Apr 2023"
   ]
  },
  {
   "cell_type": "markdown",
   "id": "fb28c682",
   "metadata": {},
   "source": [
    "In this notebook, we show how using the rank-2 MMD $\\mathcal{D}^2_{\\text{sig}}$ as a metric for market regime detection problems can lead to improved performance than by simply using the $\\mathcal{D}^1_{\\text{sig}}$, as per Subsection 4.5 of the paper \"Non-parametric online market regime detection and regime clustering for multidimensional and path-dependent data structures\"."
   ]
  },
  {
   "cell_type": "markdown",
   "id": "77246605",
   "metadata": {},
   "source": [
    "<div style=\"background: navy; color: white; padding: 20px\">\n",
    "\n",
    "\n",
    "### Imports"
   ]
  },
  {
   "cell_type": "code",
   "execution_count": null,
   "id": "bbe4d364",
   "metadata": {},
   "outputs": [],
   "source": [
    "from src.generators.config import ModelConfig\n",
    "from src.testing import TestConfig\n",
    "from src.testing.discriminators import GeneralMMDDetector\n",
    "from src.testing.discriminators.config import ProcessorConfig\n",
    "from src.testing.experiment_functions.mmd_test_functions import get_beliefs_from_config\n",
    "from src.utils.Config import Config\n",
    "from src.utils.auxiliary_classes.PathTransformer import PathTransformer, PathTransformerConfig\n",
    "from src.utils.auxiliary_classes.RegimePartitioner import RegimePartitioner, RegimePartitionerConfig\n",
    "from src.testing.experiment_functions.mmd_test_functions import alpha_score_function\n",
    "from src.utils.helper_functions.plot_helper_functions import plot_regime_change_path\n",
    "from src.testing.experiment_functions.plot_result_functions import plot_path_experiment_result, plot_path_test_threshold\n",
    "from src.utils.helper_functions.test_helper_functions import get_memberships, get_alphas, get_sub_paths, \\\n",
    "    get_grouped_paths"
   ]
  },
  {
   "cell_type": "markdown",
   "id": "d8e6a7c5",
   "metadata": {},
   "source": [
    "<div style=\"background: navy; color: white; padding: 20px\">\n",
    "\n",
    "    \n",
    "## 1. Set configurations"
   ]
  },
  {
   "cell_type": "markdown",
   "id": "0905d860",
   "metadata": {},
   "source": [
    "For a deeper explanation for what each of the configuration variables does, see the notebook <code>5-higher-rank-mmd.ipynb</code>."
   ]
  },
  {
   "cell_type": "code",
   "execution_count": null,
   "id": "cccf34bc",
   "metadata": {},
   "outputs": [],
   "source": [
    "test_config             = TestConfig()\n",
    "path_transformer_config = PathTransformerConfig()\n",
    "regime_config           = RegimePartitionerConfig()\n",
    "\n",
    "year_mesh = 252          # Grid size parameter\n",
    "time      = 1/12         # Fraction of a year to simulate over (belief paths)\n",
    "T         = 20           # Length of regime path\n",
    "dim       = 5            # Dimensionality of path objects\n",
    "dt        = 1/year_mesh\n",
    "S0        = [1. for _ in range(dim)]\n",
    "\n",
    "model_config = ModelConfig()\n",
    "model_config.override_args({\n",
    "    \"year_mesh\": year_mesh,\n",
    "    \"attach_volatility\": False\n",
    "})\n",
    "\n",
    "path_transformer_config.set_transformations({\n",
    "    \"standardise_path_transform\":    (True , 0, {\"s_type\": \"initial\"}),\n",
    "    \"time_normalisation_transform\":  (True , 0, {}),\n",
    "    \"time_difference_transform\":     (False, 0, {}),\n",
    "    \"difference_transform\":          (False, 0, {}),\n",
    "    \"translation_transform\":         (False , 0, {}),\n",
    "    \"scaling_transform\":             (False, 0, {\"sigmas\": [(1/dt)**0.5 for _ in range(dim)]}),\n",
    "    \"cumulant_transform\":            (False , 2, {}),\n",
    "    \"increment_transform\":           (False, 2, {}),\n",
    "    \"lead_lag_transform\":            (False, 3, {}),\n",
    "    \"invisibility_transform\":        (False, 4, {}),\n",
    "})\n",
    "\n",
    "path_transformer_config.compute_pathwise_signature_transform = False\n",
    "path_transformer_config.signature_order = 8\n",
    "\n",
    "test_config.override_args({\n",
    "    \"n_steps\"          : int(time*year_mesh),\n",
    "    \"n_paths\"          : 10,\n",
    "    \"offset\"           : 0,\n",
    "    \"weight_factor\"    : 1,\n",
    "    \"belief_models\"    : [\"gbm\"],\n",
    "    \"model_pair_names\" : [\"gbm\", \"rBergomi\"],\n",
    "    \"belief_params\"    : [[[0., 0.2] for _ in range(dim)]],\n",
    "    \"model_pair_params\": [[[0., 0.2] for _ in range(dim)], [[0.1, 0.1, -0.7, 0.3] for _ in range(dim)]],\n",
    "    \"path_bank_size\"   : 100000\n",
    "})\n",
    "\n",
    "mmd1_processor_config = ProcessorConfig()\n",
    "mmd2_processor_config = ProcessorConfig()\n",
    "\n",
    "sigma0 = 0.5\n",
    "sigma1 = 1\n",
    "\n",
    "mmd1_processor_config.override_args({\n",
    "    \"generalmmddetector_kwargs\": Config(**{\n",
    "        \"normalise\": False,\n",
    "        \"n_tests\": 512,\n",
    "        \"n_evaluations\": 1,\n",
    "        \"metric_kwargs\": Config(**{\n",
    "            \"kernel_type\": \"rbf\",\n",
    "            \"metric_type\": \"mmd\",\n",
    "            \"sigmas\": [sigma0],  \n",
    "            \"dyadic_orders\": [0],  \n",
    "            \"lambd\": 1\n",
    "        }),\n",
    "        \"evaluator_kwargs\": Config(**{\n",
    "            \"pct_ignore\": 0.1\n",
    "        })\n",
    "    })\n",
    "})\n",
    "\n",
    "mmd2_processor_config.override_args({\n",
    "    \"generalmmddetector_kwargs\": Config(**{\n",
    "        \"normalise\": False,\n",
    "        \"n_tests\": 512,\n",
    "        \"n_evaluations\": 1,\n",
    "        \"metric_kwargs\": Config(**{\n",
    "            \"kernel_type\": \"rbf\",\n",
    "            \"metric_type\": \"mmd\",\n",
    "            \"sigmas\": [sigma0, sigma1],  \n",
    "            \"dyadic_orders\": [0, 0],  \n",
    "            \"lambd\": 1\n",
    "        }),\n",
    "        \"evaluator_kwargs\": Config(**{\n",
    "            \"pct_ignore\": 0.1\n",
    "        })\n",
    "    })\n",
    "})\n",
    "\n",
    "regime_config.override_args({\n",
    "    \"n_regime_changes\": 5,\n",
    "    \"f_length_scale\"  : 0.5,\n",
    "    \"type\"            : \"random_on_off_steps\",\n",
    "    \"r_on_args\"       : [\"poisson\", 0.25],\n",
    "    \"r_off_args\"      : [\"poisson\", 5],\n",
    "    \"r_min_distance\"  : 40\n",
    "})\n",
    "        \n",
    "beliefs, belief_details, model_pairs = get_beliefs_from_config(test_config, model_config)\n",
    "path_transformer = PathTransformer(path_transformer_config)"
   ]
  },
  {
   "cell_type": "markdown",
   "id": "e19c37f8",
   "metadata": {},
   "source": [
    "<div style=\"background: navy; color: white; padding: 20px\">\n",
    "\n",
    "## 2. Initialize detector objects"
   ]
  },
  {
   "cell_type": "code",
   "execution_count": null,
   "id": "5b7080c1",
   "metadata": {},
   "outputs": [],
   "source": [
    "mmd1_detector = GeneralMMDDetector(\n",
    "    beliefs          = beliefs, \n",
    "    path_details     = belief_details,\n",
    "    path_transformer = path_transformer,\n",
    "    processor_config = mmd1_processor_config,\n",
    "    test_config      = test_config\n",
    ")\n",
    "\n",
    "mmd2_detector = GeneralMMDDetector(\n",
    "    beliefs          = beliefs, \n",
    "    path_details     = belief_details,\n",
    "    path_transformer = path_transformer,\n",
    "    processor_config = mmd2_processor_config,\n",
    "    test_config      = test_config\n",
    ")"
   ]
  },
  {
   "cell_type": "markdown",
   "id": "36558541",
   "metadata": {},
   "source": [
    "<div style=\"background: navy; color: white; padding: 20px\">\n",
    "\n",
    "## 3. Build regime-changed path"
   ]
  },
  {
   "cell_type": "code",
   "execution_count": null,
   "id": "32408cf0",
   "metadata": {},
   "outputs": [],
   "source": [
    "# Generate path for testing\n",
    "regime_partitioner = RegimePartitioner(model_config.year_mesh, regime_config)\n",
    "regime_partitioner.generate_regime_partitions(T=T, n_steps=test_config.n_steps)\n",
    "test_path = regime_partitioner.generate_regime_change_path(model_pairs, S0)"
   ]
  },
  {
   "cell_type": "code",
   "execution_count": null,
   "id": "8c66438b",
   "metadata": {},
   "outputs": [],
   "source": [
    "_, regime_changes, _ = regime_partitioner.changes_to_times()\n",
    "path_splits_time = [item for sublist in [[r[0], r[1] + 1/year_mesh] for r in regime_changes] for item in sublist]\n",
    "path_splits_mesh = [int(p*year_mesh) for p in path_splits_time]\n",
    "\n",
    "plot_regime_change_path(test_path, regime_changes, log_returns=False, one_dim=True)"
   ]
  },
  {
   "cell_type": "code",
   "execution_count": null,
   "id": "14f5d2cc",
   "metadata": {},
   "outputs": [],
   "source": [
    "plot_regime_change_path(test_path, regime_changes, log_returns=True, one_dim=True)"
   ]
  },
  {
   "cell_type": "markdown",
   "id": "d7ad532f",
   "metadata": {},
   "source": [
    "<div style=\"background: navy; color: white; padding: 20px\">\n",
    "\n",
    "## 4. Calculate scores with respect to each detector"
   ]
  },
  {
   "cell_type": "code",
   "execution_count": null,
   "id": "4d11e439",
   "metadata": {},
   "outputs": [],
   "source": [
    "mmd1_scores = mmd1_detector.evaluate_path(test_path, evaluation=\"total\")\n",
    "mmd2_scores = mmd2_detector.evaluate_path(test_path, evaluation=\"total\")"
   ]
  },
  {
   "cell_type": "markdown",
   "id": "4050ef15",
   "metadata": {},
   "source": [
    "<div style=\"background: navy; color: white; padding: 20px\">\n",
    "\n",
    "## 5. Get scores"
   ]
  },
  {
   "cell_type": "code",
   "execution_count": null,
   "id": "66e4b4e0",
   "metadata": {},
   "outputs": [],
   "source": [
    "# Report scores\n",
    "n_steps        = test_config.n_steps\n",
    "n_paths        = test_config.n_paths\n",
    "sub_paths      = get_sub_paths(test_path, n_steps, 0)\n",
    "mmd_paths      = get_grouped_paths(sub_paths, n_paths)\n",
    "\n",
    "memberships    = get_memberships(mmd_paths)\n",
    "c_alpha_1      = mmd1_detector.critical_value\n",
    "c_alpha_2= mmd2_detector.critical_value\n",
    "mmd_alphas_1   = get_alphas(memberships, mmd1_scores, c_alpha_1)\n",
    "mmd_alphas_2   = get_alphas(memberships, mmd2_scores, c_alpha_2)\n",
    "\n",
    "\n",
    "mmd1_scores_dict = alpha_score_function(\n",
    "    regime_changes = regime_partitioner.regime_changes,\n",
    "    path_length    = len(test_path),\n",
    "    memberships    = memberships,\n",
    "    test_alphas    = mmd_alphas_1[0],\n",
    "    test_data      = [n_steps, 0, n_paths]\n",
    ")\n",
    "\n",
    "print(\"mmd1_Detector scores\")\n",
    "for k, v in mmd1_scores_dict.items():\n",
    "    print(\"{}: {:.4f}%\".format(k, v*100))\n",
    "\n",
    "mmd2_scores_dict = alpha_score_function(\n",
    "    regime_changes = regime_partitioner.regime_changes,\n",
    "    path_length    = len(test_path),\n",
    "    memberships    = memberships,\n",
    "    test_alphas    = mmd_alphas_2[0],\n",
    "    test_data      = [n_steps, 0, n_paths]\n",
    ")\n",
    "\n",
    "print(\"\\nmmd2_Detector scores\")\n",
    "for k, v in mmd2_scores_dict.items():\n",
    "    print(\"{}: {:.4f}%\".format(k, v*100))"
   ]
  },
  {
   "cell_type": "markdown",
   "id": "0321e409",
   "metadata": {},
   "source": [
    "<div style=\"background: navy; color: white; padding: 20px\">\n",
    "\n",
    "\n",
    "## 6. Plot results"
   ]
  },
  {
   "cell_type": "code",
   "execution_count": null,
   "id": "d90e8239",
   "metadata": {},
   "outputs": [],
   "source": [
    "plot_path_experiment_result(test_path, mmd1_scores, path_splits_mesh, diff=False, one_dim=True)\n",
    "plot_path_experiment_result(test_path, mmd2_scores, path_splits_mesh, diff=False, one_dim=True)"
   ]
  },
  {
   "cell_type": "code",
   "execution_count": null,
   "id": "64fc7822",
   "metadata": {},
   "outputs": [],
   "source": [
    "plot_path_test_threshold(sub_paths, mmd_alphas_1[0], path_splits_time, one_dim=True)\n",
    "plot_path_test_threshold(sub_paths, mmd_alphas_2[0], path_splits_time, one_dim=True)"
   ]
  }
 ],
 "metadata": {
  "kernelspec": {
   "display_name": "Python 3 (ipykernel)",
   "language": "python",
   "name": "python3"
  },
  "language_info": {
   "codemirror_mode": {
    "name": "ipython",
    "version": 3
   },
   "file_extension": ".py",
   "mimetype": "text/x-python",
   "name": "python",
   "nbconvert_exporter": "python",
   "pygments_lexer": "ipython3",
   "version": "3.9.13"
  }
 },
 "nbformat": 4,
 "nbformat_minor": 5
}
