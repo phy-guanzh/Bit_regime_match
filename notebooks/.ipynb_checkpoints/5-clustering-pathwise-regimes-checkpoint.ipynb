{
 "cells": [
  {
   "cell_type": "markdown",
   "id": "bc0caf70",
   "metadata": {},
   "source": [
    "<div style=\"background: navy; color: white; padding: 20px\">\n",
    "\n",
    "# $\\S 5$: Clustering market regimes using the rank-$r$ MMD\n",
    "\n",
    "## Z Issa Apr 2023"
   ]
  },
  {
   "cell_type": "markdown",
   "id": "149d3637",
   "metadata": {},
   "source": [
    "In this notebook, we outline how the rank-$r$ MMD can be used to cluster market regimes on path space. Corresponds to Section 5 of the paper \"Non-parametric online market regime detection and regime clustering for multidimensional and path-dependent data structures\""
   ]
  },
  {
   "cell_type": "markdown",
   "id": "8d9b6853",
   "metadata": {},
   "source": [
    "<div style=\"background: navy; color: white; padding: 20px\">\n",
    "\n",
    "### Imports"
   ]
  },
  {
   "cell_type": "code",
   "execution_count": null,
   "id": "8582ed4e",
   "metadata": {},
   "outputs": [],
   "source": [
    "import numpy as np\n",
    "import torch\n",
    "from sklearn.cluster import AgglomerativeClustering\n",
    "\n",
    "from src.generators.Model import Model\n",
    "from src.generators.config import ModelConfig\n",
    "from src.testing import TestConfig\n",
    "from src.testing.clustering.config import ClusterConfig\n",
    "from src.testing.discriminators import AutoEvaluator\n",
    "from src.testing.discriminators.config import ProcessorConfig\n",
    "from src.testing.experiment_functions.plot_result_functions import plot_path_experiment_result\n",
    "from src.utils.Config import Config\n",
    "from src.utils.auxiliary_classes.PathTransformer import PathTransformer, PathTransformerConfig\n",
    "from src.utils.auxiliary_classes.RegimePartitioner import RegimePartitioner, RegimePartitionerConfig\n",
    "from src.utils.helper_functions.plot_helper_functions import plot_regime_change_path\n",
    "from src.utils.helper_functions.test_helper_functions import get_memberships, get_sub_paths, get_grouped_paths"
   ]
  },
  {
   "cell_type": "code",
   "execution_count": null,
   "id": "7a45dc83",
   "metadata": {},
   "outputs": [],
   "source": [
    "device = \"cuda\" if torch.cuda.is_available() else \"cpu\""
   ]
  },
  {
   "cell_type": "markdown",
   "id": "97600666",
   "metadata": {},
   "source": [
    "<div style=\"background: navy; color: white; padding: 20px\">\n",
    "\n",
    "### 1. Set configurations"
   ]
  },
  {
   "cell_type": "markdown",
   "id": "936ad926",
   "metadata": {},
   "source": [
    "Detailed explanations for configuration variables can be found in the notebook <code>5-online-regime-detection.ipynb</code>."
   ]
  },
  {
   "cell_type": "code",
   "execution_count": null,
   "id": "13ae26d4",
   "metadata": {},
   "outputs": [],
   "source": [
    "test_config             = TestConfig()\n",
    "cluster_config          = ClusterConfig()\n",
    "path_transformer_config = PathTransformerConfig()\n",
    "processor_config        = ProcessorConfig()\n",
    "model_config            = ModelConfig()\n",
    "regime_config           = RegimePartitionerConfig()\n",
    "\n",
    "model_config.year_mesh         = 7*252\n",
    "model_config.attach_volatility = False\n",
    "\n",
    "n_steps = 8\n",
    "n_paths = 16\n",
    "offset  = 0\n",
    "T       = 2\n",
    "dim     = 1\n",
    "dt      = 1/model_config.year_mesh\n",
    "\n",
    "S0 = [1. for _ in range(dim)]\n",
    "\n",
    "test_config.override_args({\n",
    "    \"n_steps\": n_steps,\n",
    "    \"n_paths\": n_paths,\n",
    "    \"offset\" : offset,\n",
    "    \"weight_factor\": 1,\n",
    "    \"belief_models\": [\"gbm\"],\n",
    "    \"model_pair_names\": [\"gbm\", \"gbm\"],\n",
    "    \"belief_params\": [[[0., 0.2] for _ in range(dim)]],\n",
    "    \"model_pair_params\": [[[0., 0.2] for _ in range(dim)], [[0., 0.3] for _ in range(dim)]],\n",
    "    \"path_bank_size\": 100000\n",
    "})\n",
    "\n",
    "path_transformer_config.set_transformations({\n",
    "    \"standardise_path_transform\":    (True,  0, {\"s_type\": \"initial\"}),\n",
    "    \"time_normalisation_transform\":  (True,  0, {}),\n",
    "    \"translation_transform\":         (True,  0, {}),\n",
    "    \"difference_transform\":          (False, 0, {}),\n",
    "    \"squared_log_returns_transform\": (False, 0, {}),\n",
    "    \"ewma_volatility_transform\"    : (False, 0, {\"lambd\": 0.5}),\n",
    "    \"cumulant_transform\":            (False, 2, {}),\n",
    "    \"increment_transform\":           (True, 2, {}),\n",
    "    \"lead_lag_transform\":            (False, 3, {}),\n",
    "    \"invisibility_transform\":        (False, 4, {}),\n",
    "})\n",
    "\n",
    "path_transformer_config.compute_pathwise_signature_transform = False\n",
    "path_transformer_config.signature_order = 8\n",
    "\n",
    "path_transformer = PathTransformer(path_transformer_config)\n",
    "\n",
    "processor_config.autoevaluator_kwargs.override_args({\n",
    "    \"metric_kwargs\": Config(**{\n",
    "        \"kernel_type\": \"rbf\",\n",
    "        \"metric_type\": \"mmd\",\n",
    "        \"sigmas\": [5e-1],  \n",
    "        \"dyadic_orders\": [3],  \n",
    "        \"lambd\": 1\n",
    "    })\n",
    "})\n",
    "\n",
    "processor_config.device = device\n",
    "\n",
    "regime_config.override_args({\n",
    "    \"n_regime_changes\": 5,\n",
    "    \"f_length_scale\"  : 0.5, \n",
    "    \"type\"            : \"random_on_off_steps\", \n",
    "    \"r_on_args\"       : [\"poisson\", 4],\n",
    "    \"r_off_args\"      : [\"poisson\", 1/7],\n",
    "    \"r_min_distance\"  : 20\n",
    "})"
   ]
  },
  {
   "cell_type": "markdown",
   "id": "116bc861",
   "metadata": {},
   "source": [
    "<div style=\"background: navy; color: white; padding: 20px\">\n",
    "\n",
    "## 2. Initialize detector"
   ]
  },
  {
   "cell_type": "code",
   "execution_count": null,
   "id": "8a0a6401",
   "metadata": {},
   "outputs": [],
   "source": [
    "classifier = AutoEvaluator(\n",
    "    path_transformer = path_transformer,\n",
    "    processor_config = processor_config,\n",
    "    test_config      = test_config\n",
    ")"
   ]
  },
  {
   "cell_type": "markdown",
   "id": "669b1281",
   "metadata": {},
   "source": [
    "<div style=\"background: navy; color: white; padding: 20px\">\n",
    "\n",
    "\n",
    "## 3. Build and plot regime-changed path"
   ]
  },
  {
   "cell_type": "code",
   "execution_count": null,
   "id": "36b34e06",
   "metadata": {},
   "outputs": [],
   "source": [
    "regime_partitioner = RegimePartitioner(model_config.year_mesh, regime_config)\n",
    "regime_partitioner.generate_regime_partitions(T=T, n_steps=n_steps)\n",
    "\n",
    "model_pair_names, model_pair_params = test_config.model_pair_names, test_config.model_pair_params\n",
    "model_pairs                         = [Model(name, theta, model_config) for name, theta in zip(model_pair_names, model_pair_params)]\n",
    "\n",
    "cluster_path = regime_partitioner.generate_regime_change_path(model_pairs, S0)\n",
    "\n",
    "_, regime_changes, _ = regime_partitioner.changes_to_times()\n",
    "path_splits_time = [item for sublist in [[r[0], r[1] + 1/model_config.year_mesh] for r in regime_changes] for item in sublist] \n",
    "path_splits_mesh = [int(p*model_config.year_mesh) for p in path_splits_time]"
   ]
  },
  {
   "cell_type": "code",
   "execution_count": null,
   "id": "0b202261",
   "metadata": {},
   "outputs": [],
   "source": [
    "plot_regime_change_path(cluster_path, regime_changes, log_returns=False, one_dim=True)"
   ]
  },
  {
   "cell_type": "markdown",
   "id": "12953a86",
   "metadata": {},
   "source": [
    "<div style=\"background: navy; color: white; padding: 20px\">\n",
    "\n",
    "## 4. Get pairwise distance matrix"
   ]
  },
  {
   "cell_type": "code",
   "execution_count": null,
   "id": "e947ba36",
   "metadata": {},
   "outputs": [],
   "source": [
    "pairwise_distance_matrix = classifier.generate_distance_matrix(cluster_path)"
   ]
  },
  {
   "cell_type": "markdown",
   "id": "5887ee71",
   "metadata": {},
   "source": [
    "<div style=\"background: navy; color: white; padding: 20px\">\n",
    "\n",
    "## 5. Get clusters from <code>AgglomerativeClustering</code>"
   ]
  },
  {
   "cell_type": "code",
   "execution_count": null,
   "id": "ba021de6",
   "metadata": {},
   "outputs": [],
   "source": [
    "clusters_object = AgglomerativeClustering(\n",
    "    n_clusters = 2, \n",
    "    metric   = \"precomputed\", \n",
    "    linkage    = \"average\"\n",
    ").fit(pairwise_distance_matrix)\n",
    "\n",
    "labels_ = clusters_object.labels_"
   ]
  },
  {
   "cell_type": "markdown",
   "id": "a8e91288",
   "metadata": {},
   "source": [
    "<div style=\"background: navy; color: white; padding: 20px\">\n",
    "\n",
    "## 6. Plot results"
   ]
  },
  {
   "cell_type": "code",
   "execution_count": null,
   "id": "5b9b43ad",
   "metadata": {},
   "outputs": [],
   "source": [
    "sp_cluster = get_sub_paths(cluster_path, n_steps, 0)\n",
    "mmd_cluster = get_grouped_paths(sp_cluster, n_paths)\n",
    "sp_cluster_t = path_transformer.transform_paths(sp_cluster.copy())\n",
    "mmd_cluster_t = get_grouped_paths(sp_cluster_t, n_paths)"
   ]
  },
  {
   "cell_type": "code",
   "execution_count": null,
   "id": "6fed5e6e",
   "metadata": {},
   "outputs": [],
   "source": [
    "indexes               = sp_cluster[:, -1, 0]\n",
    "cluster_memberships   = get_memberships(mmd_cluster)\n",
    "\n",
    "scores                = np.array([np.mean(labels_[m]) for m in cluster_memberships])\n",
    "cluster_score_array   = np.vstack([indexes, scores])"
   ]
  },
  {
   "cell_type": "code",
   "execution_count": null,
   "id": "25d2360f",
   "metadata": {},
   "outputs": [],
   "source": [
    "plot_path_experiment_result(cluster_path, cluster_score_array, path_splits_mesh, diff=False, one_dim=True)"
   ]
  }
 ],
 "metadata": {
  "kernelspec": {
   "display_name": "Python 3 (ipykernel)",
   "language": "python",
   "name": "python3"
  },
  "language_info": {
   "codemirror_mode": {
    "name": "ipython",
    "version": 3
   },
   "file_extension": ".py",
   "mimetype": "text/x-python",
   "name": "python",
   "nbconvert_exporter": "python",
   "pygments_lexer": "ipython3",
   "version": "3.9.13"
  }
 },
 "nbformat": 4,
 "nbformat_minor": 5
}
